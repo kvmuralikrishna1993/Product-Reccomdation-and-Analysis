{
 "cells": [
  {
   "cell_type": "markdown",
   "metadata": {},
   "source": [
    "## <font color=black>7. Outputs and ScreenShots. </font>"
   ]
  },
  {
   "cell_type": "markdown",
   "metadata": {},
   "source": [
    "### <font color=black>Importing the required packages.</font>"
   ]
  },
  {
   "cell_type": "code",
   "execution_count": 1,
   "metadata": {},
   "outputs": [
    {
     "name": "stderr",
     "output_type": "stream",
     "text": [
      "[nltk_data] Downloading package punkt to\n",
      "[nltk_data]     /Users/Muralikrishna/nltk_data...\n",
      "[nltk_data]   Package punkt is already up-to-date!\n",
      "[nltk_data] Downloading package wordnet to\n",
      "[nltk_data]     /Users/Muralikrishna/nltk_data...\n",
      "[nltk_data]   Package wordnet is already up-to-date!\n"
     ]
    }
   ],
   "source": [
    "import pandas as pd\n",
    "import numpy as np\n",
    "from textblob import TextBlob\n",
    "from textblob.classifiers import NaiveBayesClassifier\n",
    "import pickle\n",
    "\n",
    "import ssl\n",
    "try:\n",
    "\t_create_unverified_https_context = ssl._create_unverified_context\n",
    "except AttributeError:\n",
    "\tpass\n",
    "else:\n",
    "\tssl._create_default_https_context = _create_unverified_https_context\n",
    "\n",
    "import nltk\n",
    "nltk.download('punkt')\n",
    "nltk.download('wordnet')\n",
    "from nltk.stem import WordNetLemmatizer, SnowballStemmer\n",
    "from nltk.stem.porter import *\n",
    "\n",
    "import gensim\n",
    "from gensim.utils import simple_preprocess\n",
    "from gensim.parsing.preprocessing import STOPWORDS\n",
    "from gensim import models\n",
    "from gensim.models.coherencemodel import CoherenceModel\n",
    "\n",
    "#Representing wordcloud.\n",
    "from wordcloud import WordCloud, STOPWORDS\n",
    "\n",
    "# Plotting tools\n",
    "import pyLDAvis\n",
    "import pyLDAvis.gensim  # don't skip this\n",
    "import matplotlib.pyplot as plt\n",
    "%matplotlib inline\n",
    "from IPython import get_ipython\n",
    "\n",
    "#Ignoring warnings.\n",
    "import warnings\n",
    "warnings.filterwarnings('ignore')\n",
    "warnings.filterwarnings('ignore',category = DeprecationWarning)\n",
    "np.random.seed(2019)"
   ]
  },
  {
   "cell_type": "markdown",
   "metadata": {},
   "source": [
    "## <font color=black>List for dividing Positive and Negative sentences.</font>"
   ]
  },
  {
   "cell_type": "code",
   "execution_count": 3,
   "metadata": {},
   "outputs": [],
   "source": [
    "positive_sen = []\n",
    "negative_sen = []\n",
    "neutral_sen = []"
   ]
  },
  {
   "cell_type": "markdown",
   "metadata": {},
   "source": [
    "## <font color=black>Building the classifier using NAIVEBAYES from TWITTER data.</font>"
   ]
  },
  {
   "cell_type": "code",
   "execution_count": 4,
   "metadata": {},
   "outputs": [
    {
     "name": "stdout",
     "output_type": "stream",
     "text": [
      "Sucessfully built the classifier ....\n"
     ]
    }
   ],
   "source": [
    "with open('train.json', 'r') as fp:\n",
    "  cl = NaiveBayesClassifier(fp, format=\"json\")\n",
    "print(\"Sucessfully built the classifier ....\")"
   ]
  },
  {
   "cell_type": "markdown",
   "metadata": {},
   "source": [
    "## <font color=black>Accuracy of the Classifier.</font>"
   ]
  },
  {
   "cell_type": "code",
   "execution_count": 9,
   "metadata": {
    "scrolled": true
   },
   "outputs": [
    {
     "name": "stdout",
     "output_type": "stream",
     "text": [
      "calculating the accuracy of classifier...\n",
      "classifier accuracy:\n",
      "0.7008\n"
     ]
    }
   ],
   "source": [
    "print(\"calculating the accuracy of classifier...\")\n",
    "with open('test.json', 'r') as test:\n",
    "  print(\"classifier accuracy:\")\n",
    "  print(cl.accuracy(test,format=\"json\"))"
   ]
  },
  {
   "cell_type": "markdown",
   "metadata": {},
   "source": [
    "## <font color=black>Saving the Classifier using PICKLE.</font>"
   ]
  },
  {
   "cell_type": "code",
   "execution_count": 10,
   "metadata": {},
   "outputs": [
    {
     "name": "stdout",
     "output_type": "stream",
     "text": [
      "Generating pickle file....\n",
      "Dumping pickle....\n",
      "Pickle file created.....\n"
     ]
    }
   ],
   "source": [
    "sentiment_classifier = open(\"classifier.pickle\",\"wb\")\n",
    "print(\"Generating pickle file....\")\n",
    "\n",
    "print(\"Dumping pickle....\")\n",
    "pickle.dump(cl, sentiment_classifier)\n",
    "\n",
    "sentiment_classifier.close()\n",
    "print(\"Pickle file created.....\")"
   ]
  },
  {
   "cell_type": "markdown",
   "metadata": {},
   "source": [
    "## <font color=black>Building the classifier using PICKLE file.</font>"
   ]
  },
  {
   "cell_type": "code",
   "execution_count": 11,
   "metadata": {},
   "outputs": [
    {
     "name": "stdout",
     "output_type": "stream",
     "text": [
      "output for sample doc:\n",
      "neg\n"
     ]
    }
   ],
   "source": [
    "with open(\"classifier.pickle\", \"rb\") as classifier_f:\n",
    "\tcl = pickle.load(classifier_f)\n",
    "classifier_f.close()\n",
    "print(\"output for sample doc:\")\n",
    "print(cl.classify(\"i think he doesnt like me, but there is a chance that he can love me\"))"
   ]
  },
  {
   "cell_type": "markdown",
   "metadata": {},
   "source": [
    "## <font color=black>\"Classify\" function will CATEGORIZE the Positive and Negative text.</font>"
   ]
  },
  {
   "cell_type": "code",
   "execution_count": 18,
   "metadata": {},
   "outputs": [],
   "source": [
    "def classify(review):\n",
    "\tblob = TextBlob(review, classifier=cl)\n",
    "\tblob.lower()\n",
    "\tblob.correct()\n",
    "\tfor sentence in blob.sentences:\n",
    "\t\tif sentence.classify() == \"neg\" and len(str(sentence)) > 3:\n",
    "\t\t\tnegative_sen.append(str(sentence))\n",
    "\t\telif sentence.classify() == \"pos\" and len(str(sentence)) > 3:\n",
    "\t\t\tpositive_sen.append(str(sentence))\n",
    "\t\telse:\n",
    "\t\t\tif len(str(sentence)) > 3:\n",
    "\t\t\t\tneutral_sen.append(str(sentence))"
   ]
  },
  {
   "cell_type": "markdown",
   "metadata": {},
   "source": [
    "## <font color=black>Loading Reviews from topic.csv (reviews file).</font>"
   ]
  },
  {
   "cell_type": "code",
   "execution_count": 2,
   "metadata": {},
   "outputs": [
    {
     "name": "stdout",
     "output_type": "stream",
     "text": [
      "loading reviews\n",
      "Number of Reviews: 604\n"
     ]
    }
   ],
   "source": [
    "print(\"loading reviews\")\n",
    "data = pd.read_csv('topic.csv', error_bad_lines=False);\n",
    "data_text = data[['Reviews']]\n",
    "data_text['index'] = data_text.index\n",
    "documents = data_text\n",
    "total_docs = len(documents)\n",
    "print(\"Number of Reviews: \" + str(total_docs))"
   ]
  },
  {
   "cell_type": "markdown",
   "metadata": {},
   "source": [
    "### <font color=black>NOTE: *We will consider each review as each document and will build the topic model*.</font>"
   ]
  },
  {
   "cell_type": "markdown",
   "metadata": {},
   "source": [
    "## <font color=black>CLASSIFYING reviews with respect to sentences.</font>"
   ]
  },
  {
   "cell_type": "code",
   "execution_count": 19,
   "metadata": {},
   "outputs": [
    {
     "name": "stdout",
     "output_type": "stream",
     "text": [
      "classifying reviews...\n",
      "reviews classified....\n"
     ]
    }
   ],
   "source": [
    "print(\"classifying reviews...\")\n",
    "documents['Reviews'].map(classify)\n",
    "print(\"reviews classified....\")"
   ]
  },
  {
   "cell_type": "markdown",
   "metadata": {},
   "source": [
    "## <font color=black>STORING positive text in positive.txt file. </font>"
   ]
  },
  {
   "cell_type": "code",
   "execution_count": 21,
   "metadata": {},
   "outputs": [
    {
     "name": "stdout",
     "output_type": "stream",
     "text": [
      "Number of positive sentences: 984\n",
      "positive text file created....\n"
     ]
    }
   ],
   "source": [
    "print(\"Number of positive sentences: \"+str(len(positive_sen)))\n",
    "pos_str = (\"\").join(positive_sen)\n",
    "file1 = open(\"positive.txt\",\"w\")\n",
    "file1.writelines(pos_str) \n",
    "file1.close()\n",
    "print(\"positive text file created....\")"
   ]
  },
  {
   "cell_type": "markdown",
   "metadata": {},
   "source": [
    "## <font color=black>STORING Negative text in Negative.txt file. </font>"
   ]
  },
  {
   "cell_type": "code",
   "execution_count": 22,
   "metadata": {},
   "outputs": [
    {
     "name": "stdout",
     "output_type": "stream",
     "text": [
      "Number of negative sentences: 1481\n",
      "negative text file created....\n"
     ]
    }
   ],
   "source": [
    "print(\"Number of negative sentences: \"+str(len(negative_sen)))\n",
    "neg_str = (\"\").join(negative_sen)\n",
    "file2 = open(\"negative.txt\",\"w\")\n",
    "file2.writelines(neg_str) \n",
    "file2.close()\n",
    "print(\"negative text file created....\")"
   ]
  },
  {
   "cell_type": "markdown",
   "metadata": {},
   "source": [
    "## <font color=black>STORING Neutral text in Neutral.txt file. </font>"
   ]
  },
  {
   "cell_type": "code",
   "execution_count": 23,
   "metadata": {},
   "outputs": [
    {
     "name": "stdout",
     "output_type": "stream",
     "text": [
      "Number of neutral sentences: 0\n",
      "neutral text file created....\n"
     ]
    }
   ],
   "source": [
    "print(\"Number of neutral sentences: \"+str(len(neutral_sen)))\n",
    "neu_str = (\"\").join(neutral_sen)\n",
    "file2 = open(\"neutral.txt\",\"w\")\n",
    "file2.writelines(neu_str) \n",
    "file2.close()\n",
    "print(\"neutral text file created....\")"
   ]
  },
  {
   "cell_type": "markdown",
   "metadata": {},
   "source": [
    "## <font color=black>\"get_classfied_files\" function READS the file and returns whole text as ONE STRING.</font>"
   ]
  },
  {
   "cell_type": "code",
   "execution_count": 3,
   "metadata": {},
   "outputs": [],
   "source": [
    "def get_classfied_files(filename):\n",
    "    unseen_document = \"\"\n",
    "    for line in open(filename, 'r'):\n",
    "        unseen_document = unseen_document+\"\"+line\n",
    "    return unseen_document"
   ]
  },
  {
   "cell_type": "markdown",
   "metadata": {},
   "source": [
    "## <font color=black>LOADING Positive and Negative text.</font>"
   ]
  },
  {
   "cell_type": "code",
   "execution_count": 4,
   "metadata": {},
   "outputs": [
    {
     "name": "stdout",
     "output_type": "stream",
     "text": [
      "loaded files successfully.. \n"
     ]
    }
   ],
   "source": [
    "pos_str = get_classfied_files(\"positive.txt\")\n",
    "neg_str = get_classfied_files(\"negative.txt\")\n",
    "print(\"loaded files successfully.. \")"
   ]
  },
  {
   "cell_type": "markdown",
   "metadata": {},
   "source": [
    "## <font color=black>\"preprocess\" function, removes STOPWORDS, PUNCTUATION, STEMMING the words, LEMMATIZING the words, removes words less than 3 (Length of the word) from the reviews.|</font>"
   ]
  },
  {
   "cell_type": "code",
   "execution_count": 5,
   "metadata": {},
   "outputs": [],
   "source": [
    "def preprocess(text):\n",
    "\tresult = []\n",
    "\tfor token in gensim.utils.simple_preprocess(text):\n",
    "\t\tif token not in gensim.parsing.preprocessing.STOPWORDS and len(token) > 3:\n",
    "\t\t\tresult.append(lemmatize_stemming(token))\n",
    "\treturn result"
   ]
  },
  {
   "cell_type": "markdown",
   "metadata": {},
   "source": [
    "\n",
    "## <font color=black>LEMMATIZING and STEMMING the word</font>"
   ]
  },
  {
   "cell_type": "code",
   "execution_count": 6,
   "metadata": {},
   "outputs": [],
   "source": [
    "def lemmatize_stemming(text):\n",
    "\tstemmer = PorterStemmer()\n",
    "\treturn stemmer.stem(WordNetLemmatizer().lemmatize(text, pos='a'))"
   ]
  },
  {
   "cell_type": "markdown",
   "metadata": {},
   "source": [
    "## <font color=black>PREPROCESSING all reviews.</font>"
   ]
  },
  {
   "cell_type": "code",
   "execution_count": 7,
   "metadata": {},
   "outputs": [
    {
     "data": {
      "text/plain": [
       "0              [like, phone, unfortun, tmobil, return]\n",
       "1                  [love, fast, slim, sleek, slipperi]\n",
       "2    [product, defect, plug, charg, thought, gonna,...\n",
       "3               [happi, cell, phone, beauti, friendli]\n",
       "4    [phone, month, decid, complet, quit, work, mid...\n",
       "Name: Reviews, dtype: object"
      ]
     },
     "execution_count": 7,
     "metadata": {},
     "output_type": "execute_result"
    }
   ],
   "source": [
    "processed_docs = documents['Reviews'].map(preprocess)\n",
    "processed_docs[0:5]"
   ]
  },
  {
   "cell_type": "markdown",
   "metadata": {},
   "source": [
    "## <font color=black>Creating dictionary from PREPROCESSED documents.</font>"
   ]
  },
  {
   "cell_type": "code",
   "execution_count": 8,
   "metadata": {},
   "outputs": [
    {
     "name": "stdout",
     "output_type": "stream",
     "text": [
      "Unique words are generated from the Preprocess Documents..\n",
      "Number of unique words: 1744\n"
     ]
    }
   ],
   "source": [
    "dictionary = gensim.corpora.Dictionary(processed_docs)\n",
    "print(\"Unique words are generated from the Preprocess Documents..\")\n",
    "print(\"Number of unique words: \"+str(len(dictionary)))"
   ]
  },
  {
   "cell_type": "markdown",
   "metadata": {},
   "source": [
    "## <font color=black>Creating the WORDCLOUD to remove unnecessary words.</font>"
   ]
  },
  {
   "cell_type": "code",
   "execution_count": 34,
   "metadata": {},
   "outputs": [
    {
     "data": {
      "image/png": "[encoded data removed]",
      "text/plain": [
       "<Figure size 576x576 with 1 Axes>"
      ]
     },
     "metadata": {
      "needs_background": "light"
     },
     "output_type": "display_data"
    }
   ],
   "source": [
    "words = ' '\n",
    "stopwords =set(STOPWORDS) \n",
    "stopwords = []\n",
    "for k,v in dictionary.iteritems():\n",
    "\twords = words + v + ' '\n",
    "wordcloud = WordCloud(width = 400, height = 200,background_color ='white',stopwords = stopwords,min_font_size = 5).generate(words)\n",
    "\t#plot the WordCloud image                        \n",
    "plt.figure(figsize = (8, 8), facecolor = None) \n",
    "plt.imshow(wordcloud) \n",
    "plt.axis(\"off\") \n",
    "plt.tight_layout(pad = 0)\n",
    "plt.show()"
   ]
  },
  {
   "cell_type": "markdown",
   "metadata": {},
   "source": [
    "## <font color=black>LISTING the word ID's of unnecessary words.</font>"
   ]
  },
  {
   "cell_type": "code",
   "execution_count": 9,
   "metadata": {},
   "outputs": [
    {
     "name": "stdout",
     "output_type": "stream",
     "text": [
      "Number of unique words after ID filtering: 1744\n"
     ]
    }
   ],
   "source": [
    "del_list = [\"galaxi\",\"iphon\",\"samsung\",\"soni\",\"xperia\",\"month\",\"love\",\"time\",\"problem\",\"like\",\"good\",\"great\"]\n",
    "del_ids = [k for k,w in dictionary.items() if w in del_list]\n",
    "print(\"Number of unique words after ID filtering: \"+str(len(dictionary)))"
   ]
  },
  {
   "cell_type": "markdown",
   "metadata": {},
   "source": [
    "## <font color=black>FILTERING the dictionary using ID's as well as coverage of words in the documents (REVIEWS).</font>"
   ]
  },
  {
   "cell_type": "code",
   "execution_count": 10,
   "metadata": {},
   "outputs": [
    {
     "name": "stdout",
     "output_type": "stream",
     "text": [
      "Final  of unique words: 4\n",
      "\n",
      "Words after filtering:\n",
      "\n",
      "0 batteri\n",
      "1 screen\n",
      "2 camera\n",
      "3 price\n",
      "\n"
     ]
    }
   ],
   "source": [
    "dictionary.filter_tokens(bad_ids=del_ids)\n",
    "dictionary.filter_extremes(no_below=70, no_above=0.2, keep_n=1700)\n",
    "print(\"Final  of unique words: \"+str(len(dictionary)))\n",
    "print()\n",
    "print(\"Words after filtering:\")\n",
    "print()\n",
    "for k, v in dictionary.iteritems():\n",
    "\tprint(k, v)\n",
    "print()"
   ]
  },
  {
   "cell_type": "markdown",
   "metadata": {},
   "source": [
    "### <font color=black>NOTE: Word should cover minimum of 70 docs (reviews) and should not be above 340(0.2*1700) docs. </font>"
   ]
  },
  {
   "cell_type": "markdown",
   "metadata": {},
   "source": [
    "## <font color=black>Creating the (bagofwords) bow_corpus.</font>"
   ]
  },
  {
   "cell_type": "code",
   "execution_count": 11,
   "metadata": {},
   "outputs": [
    {
     "name": "stdout",
     "output_type": "stream",
     "text": [
      "[[], [], [], [], [(0, 2)], [(1, 2)], [], [], [(0, 1), (1, 2)], [], [], [], [], [(0, 1)], [(1, 2)], [], [], [(0, 1), (1, 1), (2, 1)], [], []]\n"
     ]
    }
   ],
   "source": [
    "bow_corpus = [dictionary.doc2bow(doc) for doc in processed_docs]\n",
    "print(bow_corpus[0:20])"
   ]
  },
  {
   "cell_type": "markdown",
   "metadata": {},
   "source": [
    "### <font color=black>NOTE: Converting words into numbers based on id's. [review] -> [ (word1, word1_frequency), (word2, word2_frequency) ...  ]</font>"
   ]
  },
  {
   "cell_type": "markdown",
   "metadata": {},
   "source": [
    "## <font color=black> Building the LDA model using bow_corpus</font>"
   ]
  },
  {
   "cell_type": "code",
   "execution_count": 12,
   "metadata": {},
   "outputs": [
    {
     "name": "stdout",
     "output_type": "stream",
     "text": [
      "bag of words is built...\n"
     ]
    }
   ],
   "source": [
    "lda_model = gensim.models.LdaMulticore(bow_corpus, num_topics=4, id2word=dictionary, passes=2, workers=3)\n",
    "print(\"bag of words is built...\")"
   ]
  },
  {
   "cell_type": "markdown",
   "metadata": {},
   "source": [
    "## <font color=black> Printing the BOW_MODEL topics.</font>"
   ]
  },
  {
   "cell_type": "code",
   "execution_count": 13,
   "metadata": {},
   "outputs": [
    {
     "name": "stdout",
     "output_type": "stream",
     "text": [
      "\n",
      "Topic 1 : 0.891*\"price\" + 0.062*\"screen\" + 0.026*\"batteri\" + 0.021*\"camera\"\n",
      "\n",
      "Topic 2 : 0.751*\"screen\" + 0.108*\"batteri\" + 0.093*\"camera\" + 0.049*\"price\"\n",
      "\n",
      "Topic 3 : 0.640*\"batteri\" + 0.185*\"camera\" + 0.099*\"screen\" + 0.076*\"price\"\n",
      "\n",
      "Topic 4 : 0.508*\"camera\" + 0.287*\"price\" + 0.193*\"screen\" + 0.012*\"batteri\"\n",
      "\n"
     ]
    }
   ],
   "source": [
    "print()\n",
    "for idx, topic in lda_model.print_topics(-1):\n",
    "        print('Topic {} : {}'.format(idx+1, topic))\n",
    "        print()"
   ]
  },
  {
   "cell_type": "markdown",
   "metadata": {},
   "source": [
    "## <font color=black>Coherence Value of the BOW_MODEL (Indicates the distance between topics).</font>"
   ]
  },
  {
   "cell_type": "code",
   "execution_count": 14,
   "metadata": {},
   "outputs": [
    {
     "name": "stdout",
     "output_type": "stream",
     "text": [
      "\n",
      "Coherence Score_lda:  0.5876214365561422\n",
      "\n"
     ]
    }
   ],
   "source": [
    "coherence_model_lda = CoherenceModel(model=lda_model, texts=processed_docs, dictionary=dictionary, coherence='c_v')\n",
    "coherence_lda = coherence_model_lda.get_coherence()\n",
    "print('\\nCoherence Score_lda: ', coherence_lda)\n",
    "print()"
   ]
  },
  {
   "cell_type": "markdown",
   "metadata": {},
   "source": [
    "## <font color=black>Printing the Visualisation of Bag of Word Topics.</font>"
   ]
  },
  {
   "cell_type": "code",
   "execution_count": 18,
   "metadata": {},
   "outputs": [],
   "source": [
    "pyLDAvis.enable_notebook()\n",
    "visualisation = pyLDAvis.gensim.prepare(lda_model, bow_corpus, dictionary)"
   ]
  },
  {
   "cell_type": "code",
   "execution_count": 19,
   "metadata": {},
   "outputs": [
    {
     "data": {
      "text/html": [
       "\n",
       "<link rel=\"stylesheet\" type=\"text/css\" href=\"https://cdn.rawgit.com/bmabey/pyLDAvis/files/ldavis.v1.0.0.css\">\n",
       "\n",
       "\n",
       "<div id=\"ldavis_el95984825666928768645863\"></div>\n",
       "<script type=\"text/javascript\">\n",
       "\n",
       "var ldavis_el95984825666928768645863_data = {\"mdsDat\": {\"x\": [0.04636496542652434, -0.14571907032200518, -0.15367554056676402, 0.25302964546224493], \"y\": [0.044716171542530936, -0.13931785497477084, 0.11387010557923766, -0.019268422146997637], \"topics\": [1, 2, 3, 4], \"cluster\": [1, 1, 1, 1], \"Freq\": [32.67156982421875, 31.750011444091797, 18.56351089477539, 17.01491355895996]}, \"tinfo\": {\"Category\": [\"Default\", \"Default\", \"Default\", \"Default\", \"Topic1\", \"Topic1\", \"Topic1\", \"Topic1\", \"Topic2\", \"Topic2\", \"Topic2\", \"Topic2\", \"Topic3\", \"Topic3\", \"Topic3\", \"Topic3\", \"Topic4\", \"Topic4\", \"Topic4\", \"Topic4\"], \"Freq\": [165.0, 145.0, 137.0, 145.0, 98.52703857421875, 55.67537307739258, 37.523616790771484, 2.3430991172790527, 120.63650512695312, 34.82819366455078, 18.757841110229492, 14.372529029846191, 82.80886840820312, 11.889906883239746, 10.216418266296387, 5.352056980133057, 90.07658386230469, 6.301625728607178, 2.6179866790771484, 2.072388172149658], \"Term\": [\"price\", \"screen\", \"batteri\", \"camera\", \"camera\", \"price\", \"screen\", \"batteri\", \"batteri\", \"camera\", \"screen\", \"price\", \"screen\", \"batteri\", \"camera\", \"price\", \"price\", \"screen\", \"batteri\", \"camera\"], \"Total\": [165.0, 145.0, 137.0, 145.0, 145.64402770996094, 165.47654724121094, 145.39195251464844, 137.48748779296875, 137.48748779296875, 145.64402770996094, 145.39195251464844, 165.47654724121094, 145.39195251464844, 137.48748779296875, 145.64402770996094, 165.47654724121094, 165.47654724121094, 145.39195251464844, 137.48748779296875, 145.64402770996094], \"loglift\": [4.0, 3.0, 2.0, 1.0, 0.7278000116348267, 0.029400000348687172, -0.23579999804496765, -2.953399896621704, 1.0164999961853027, -0.28349998593330383, -0.9004999995231628, -1.2962000370025635, 1.1210999488830566, -0.7638999819755554, -0.9732000231742859, -1.7474000453948975, 1.1628999710083008, -1.3674999475479126, -2.190000057220459, -2.4814000129699707], \"logprob\": [4.0, 3.0, 2.0, 1.0, -0.6779000163078308, -1.2487000226974487, -1.6432000398635864, -4.4166998863220215, -0.44679999351501465, -1.6892000436782837, -2.308000087738037, -2.5743000507354736, -0.2863999903202057, -2.2272000312805176, -2.3789000511169434, -3.025399923324585, -0.11509999632835388, -2.7750000953674316, -3.65339994430542, -3.8870999813079834]}, \"token.table\": {\"Topic\": [1, 2, 3, 4, 1, 2, 3, 4, 1, 2, 3, 4, 1, 2, 3, 4], \"Freq\": [0.014546778053045273, 0.8800801038742065, 0.08728066831827164, 0.02182016707956791, 0.6797395348548889, 0.24031195044517517, 0.06866055727005005, 0.01373211108148098, 0.33841654658317566, 0.08460413664579391, 0.030215762555599213, 0.543883740901947, 0.2613624632358551, 0.13068123161792755, 0.5708706378936768, 0.0412677600979805], \"Term\": [\"batteri\", \"batteri\", \"batteri\", \"batteri\", \"camera\", \"camera\", \"camera\", \"camera\", \"price\", \"price\", \"price\", \"price\", \"screen\", \"screen\", \"screen\", \"screen\"]}, \"R\": 4, \"lambda.step\": 0.01, \"plot.opts\": {\"xlab\": \"PC1\", \"ylab\": \"PC2\"}, \"topic.order\": [4, 3, 2, 1]};\n",
       "\n",
       "function LDAvis_load_lib(url, callback){\n",
       "  var s = document.createElement('script');\n",
       "  s.src = url;\n",
       "  s.async = true;\n",
       "  s.onreadystatechange = s.onload = callback;\n",
       "  s.onerror = function(){console.warn(\"failed to load library \" + url);};\n",
       "  document.getElementsByTagName(\"head\")[0].appendChild(s);\n",
       "}\n",
       "\n",
       "if(typeof(LDAvis) !== \"undefined\"){\n",
       "   // already loaded: just create the visualization\n",
       "   !function(LDAvis){\n",
       "       new LDAvis(\"#\" + \"ldavis_el95984825666928768645863\", ldavis_el95984825666928768645863_data);\n",
       "   }(LDAvis);\n",
       "}else if(typeof define === \"function\" && define.amd){\n",
       "   // require.js is available: use it to load d3/LDAvis\n",
       "   require.config({paths: {d3: \"https://cdnjs.cloudflare.com/ajax/libs/d3/3.5.5/d3.min\"}});\n",
       "   require([\"d3\"], function(d3){\n",
       "      window.d3 = d3;\n",
       "      LDAvis_load_lib(\"https://cdn.rawgit.com/bmabey/pyLDAvis/files/ldavis.v1.0.0.js\", function(){\n",
       "        new LDAvis(\"#\" + \"ldavis_el95984825666928768645863\", ldavis_el95984825666928768645863_data);\n",
       "      });\n",
       "    });\n",
       "}else{\n",
       "    // require.js not available: dynamically load d3 & LDAvis\n",
       "    LDAvis_load_lib(\"https://cdnjs.cloudflare.com/ajax/libs/d3/3.5.5/d3.min.js\", function(){\n",
       "         LDAvis_load_lib(\"https://cdn.rawgit.com/bmabey/pyLDAvis/files/ldavis.v1.0.0.js\", function(){\n",
       "                 new LDAvis(\"#\" + \"ldavis_el95984825666928768645863\", ldavis_el95984825666928768645863_data);\n",
       "            })\n",
       "         });\n",
       "}\n",
       "</script>"
      ],
      "text/plain": [
       "PreparedData(topic_coordinates=              x         y  topics  cluster       Freq\n",
       "topic                                                \n",
       "3      0.046365  0.044716       1        1  32.671570\n",
       "2     -0.145719 -0.139318       2        1  31.750011\n",
       "1     -0.153676  0.113870       3        1  18.563511\n",
       "0      0.253030 -0.019268       4        1  17.014914, topic_info=  Category        Freq     Term       Total  loglift  logprob\n",
       "3  Default  165.000000    price  165.000000   4.0000   4.0000\n",
       "1  Default  145.000000   screen  145.000000   3.0000   3.0000\n",
       "0  Default  137.000000  batteri  137.000000   2.0000   2.0000\n",
       "2  Default  145.000000   camera  145.000000   1.0000   1.0000\n",
       "2   Topic1   98.527039   camera  145.644028   0.7278  -0.6779\n",
       "3   Topic1   55.675373    price  165.476547   0.0294  -1.2487\n",
       "1   Topic1   37.523617   screen  145.391953  -0.2358  -1.6432\n",
       "0   Topic1    2.343099  batteri  137.487488  -2.9534  -4.4167\n",
       "0   Topic2  120.636505  batteri  137.487488   1.0165  -0.4468\n",
       "2   Topic2   34.828194   camera  145.644028  -0.2835  -1.6892\n",
       "1   Topic2   18.757841   screen  145.391953  -0.9005  -2.3080\n",
       "3   Topic2   14.372529    price  165.476547  -1.2962  -2.5743\n",
       "1   Topic3   82.808868   screen  145.391953   1.1211  -0.2864\n",
       "0   Topic3   11.889907  batteri  137.487488  -0.7639  -2.2272\n",
       "2   Topic3   10.216418   camera  145.644028  -0.9732  -2.3789\n",
       "3   Topic3    5.352057    price  165.476547  -1.7474  -3.0254\n",
       "3   Topic4   90.076584    price  165.476547   1.1629  -0.1151\n",
       "1   Topic4    6.301626   screen  145.391953  -1.3675  -2.7750\n",
       "0   Topic4    2.617987  batteri  137.487488  -2.1900  -3.6534\n",
       "2   Topic4    2.072388   camera  145.644028  -2.4814  -3.8871, token_table=      Topic      Freq     Term\n",
       "term                          \n",
       "0         1  0.014547  batteri\n",
       "0         2  0.880080  batteri\n",
       "0         3  0.087281  batteri\n",
       "0         4  0.021820  batteri\n",
       "2         1  0.679740   camera\n",
       "2         2  0.240312   camera\n",
       "2         3  0.068661   camera\n",
       "2         4  0.013732   camera\n",
       "3         1  0.338417    price\n",
       "3         2  0.084604    price\n",
       "3         3  0.030216    price\n",
       "3         4  0.543884    price\n",
       "1         1  0.261362   screen\n",
       "1         2  0.130681   screen\n",
       "1         3  0.570871   screen\n",
       "1         4  0.041268   screen, R=4, lambda_step=0.01, plot_opts={'xlab': 'PC1', 'ylab': 'PC2'}, topic_order=[4, 3, 2, 1])"
      ]
     },
     "execution_count": 19,
     "metadata": {},
     "output_type": "execute_result"
    }
   ],
   "source": [
    "visualisation"
   ]
  },
  {
   "cell_type": "markdown",
   "metadata": {},
   "source": [
    "## <font color=black>Creating the TF-IDF corpus.</font>"
   ]
  },
  {
   "cell_type": "code",
   "execution_count": 62,
   "metadata": {},
   "outputs": [],
   "source": [
    "tfidf = models.TfidfModel(bow_corpus)\n",
    "corpus_tfidf = tfidf[bow_corpus]"
   ]
  },
  {
   "cell_type": "markdown",
   "metadata": {},
   "source": [
    "### <font color=black>NOTE: Converting words into numbers based on id's. [review] -> [(word1, word1_frequency*word_weight), (word2, word2_frequency*word_weight) ... ] word_weight = log( (1+M) / K ) || M - coverage of word in all documents, K - total number of documents.</font>"
   ]
  },
  {
   "cell_type": "markdown",
   "metadata": {},
   "source": [
    "## <font color=black>Building the LDA model using TF-IDF_corpus.</font>"
   ]
  },
  {
   "cell_type": "code",
   "execution_count": 65,
   "metadata": {},
   "outputs": [
    {
     "name": "stdout",
     "output_type": "stream",
     "text": [
      "TF-IDF is built...\n"
     ]
    }
   ],
   "source": [
    "lda_model_tfidf = gensim.models.LdaMulticore(corpus_tfidf, num_topics=4, id2word=dictionary, passes=2, workers=3)\n",
    "print(\"TF-IDF is built...\")"
   ]
  },
  {
   "cell_type": "markdown",
   "metadata": {},
   "source": [
    "## <font color=black>Printing the TF-IDF MODEL Topics.</font>"
   ]
  },
  {
   "cell_type": "code",
   "execution_count": 66,
   "metadata": {},
   "outputs": [
    {
     "name": "stdout",
     "output_type": "stream",
     "text": [
      "\n",
      "Topic 1 : 0.875*\"price\" + 0.061*\"batteri\" + 0.042*\"camera\" + 0.023*\"screen\"\n",
      "\n",
      "Topic 2 : 0.873*\"camera\" + 0.096*\"price\" + 0.017*\"screen\" + 0.015*\"batteri\"\n",
      "\n",
      "Topic 3 : 0.731*\"batteri\" + 0.179*\"camera\" + 0.063*\"screen\" + 0.026*\"price\"\n",
      "\n",
      "Topic 4 : 0.697*\"screen\" + 0.142*\"price\" + 0.130*\"camera\" + 0.031*\"batteri\"\n",
      "\n"
     ]
    }
   ],
   "source": [
    "print()\n",
    "for idx, topic in lda_model_tfidf.print_topics(-1):\n",
    "        print('Topic {} : {}'.format(idx+1, topic))\n",
    "        print()"
   ]
  },
  {
   "cell_type": "markdown",
   "metadata": {},
   "source": [
    "## <font color=black>Coherence Value of the TF-IDF MODEL (Indicates the distance between topics).</font>"
   ]
  },
  {
   "cell_type": "code",
   "execution_count": 67,
   "metadata": {},
   "outputs": [
    {
     "name": "stdout",
     "output_type": "stream",
     "text": [
      "\n",
      "Coherence Score_tdif:  0.5876214365561422\n",
      "\n"
     ]
    }
   ],
   "source": [
    "coherence_model_lda = CoherenceModel(model=lda_model_tfidf, texts=processed_docs, dictionary=dictionary, coherence='c_v')\n",
    "coherence_lda = coherence_model_lda.get_coherence()\n",
    "print('\\nCoherence Score_tdif: ', coherence_lda)\n",
    "print()"
   ]
  },
  {
   "cell_type": "markdown",
   "metadata": {},
   "source": [
    "## <font color=black>Printing the Visualisation of TF-IDF Topics.</font>"
   ]
  },
  {
   "cell_type": "code",
   "execution_count": 68,
   "metadata": {},
   "outputs": [],
   "source": [
    "pyLDAvis.enable_notebook()\n",
    "visualisation = pyLDAvis.gensim.prepare(lda_model_tfidf, corpus_tfidf, dictionary)"
   ]
  },
  {
   "cell_type": "code",
   "execution_count": 69,
   "metadata": {},
   "outputs": [
    {
     "data": {
      "text/html": [
       "\n",
       "<link rel=\"stylesheet\" type=\"text/css\" href=\"https://cdn.rawgit.com/bmabey/pyLDAvis/files/ldavis.v1.0.0.css\">\n",
       "\n",
       "\n",
       "<div id=\"ldavis_el804848215961041021515682\"></div>\n",
       "<script type=\"text/javascript\">\n",
       "\n",
       "var ldavis_el804848215961041021515682_data = {\"mdsDat\": {\"x\": [-0.1865078563005757, 0.23930589206062655, -0.10761936751146202, 0.05482133175141116], \"y\": [0.1509950383763323, 0.019020359938854432, -0.20272350107103249, 0.0327081027558457], \"topics\": [1, 2, 3, 4], \"cluster\": [1, 1, 1, 1], \"Freq\": [27.420774459838867, 26.463382720947266, 23.869821548461914, 22.246021270751953]}, \"tinfo\": {\"Category\": [\"Default\", \"Default\", \"Default\", \"Default\", \"Topic1\", \"Topic1\", \"Topic1\", \"Topic1\", \"Topic2\", \"Topic2\", \"Topic2\", \"Topic2\", \"Topic3\", \"Topic3\", \"Topic3\", \"Topic3\", \"Topic4\", \"Topic4\", \"Topic4\", \"Topic4\"], \"Freq\": [68.0, 55.0, 88.0, 89.0, 60.5988883972168, 14.830421447753906, 5.242032527923584, 2.180274724960327, 69.9338150024414, 4.875625133514404, 3.339049816131592, 1.8103833198547363, 62.943641662597656, 6.901980876922607, 1.2046352624893188, 1.0721853971481323, 46.856571197509766, 9.533129692077637, 8.766332626342773, 2.0601131916046143], \"Term\": [\"batteri\", \"screen\", \"price\", \"camera\", \"batteri\", \"camera\", \"screen\", \"price\", \"price\", \"batteri\", \"camera\", \"screen\", \"camera\", \"price\", \"screen\", \"batteri\", \"screen\", \"price\", \"camera\", \"batteri\"], \"Total\": [68.0, 55.0, 88.0, 89.0, 68.60680389404297, 89.87944793701172, 55.113624572753906, 88.5491943359375, 88.5491943359375, 68.60680389404297, 89.87944793701172, 55.113624572753906, 89.87944793701172, 88.5491943359375, 55.113624572753906, 68.60680389404297, 55.113624572753906, 88.5491943359375, 89.87944793701172, 68.60680389404297], \"loglift\": [4.0, 3.0, 2.0, 1.0, 1.169800043106079, -0.5078999996185303, -1.0587999820709229, -2.4102001190185547, 1.093400001525879, -1.3147000074386597, -1.9634000062942505, -2.0864999294281006, 1.076300024986267, -1.1191999912261963, -2.390700101852417, -2.726099967956543, 1.3407000303268433, -0.7257999777793884, -0.8245000243186951, -2.0025999546051025], \"logprob\": [4.0, 3.0, 2.0, 1.0, -0.31279999017715454, -1.7203999757766724, -2.7602999210357666, -3.6375999450683594, -0.1340000033378601, -2.797300100326538, -3.175800085067749, -3.7880001068115234, -0.13609999418258667, -2.34660005569458, -4.092199802398682, -4.208700180053711, -0.36079999804496765, -1.9530999660491943, -2.0369999408721924, -3.4851999282836914]}, \"token.table\": {\"Topic\": [1, 2, 3, 4, 1, 2, 3, 4, 1, 2, 3, 4, 1, 2, 3, 4], \"Freq\": [0.8891246318817139, 0.07287906855344772, 0.01457581389695406, 0.02915162779390812, 0.1668902039527893, 0.03337804228067398, 0.700938880443573, 0.10013412684202194, 0.022586315870285034, 0.7905210256576538, 0.07905210554599762, 0.11293157190084457, 0.09072166681289673, 0.03628866747021675, 0.018144333735108376, 0.8527836799621582], \"Term\": [\"batteri\", \"batteri\", \"batteri\", \"batteri\", \"camera\", \"camera\", \"camera\", \"camera\", \"price\", \"price\", \"price\", \"price\", \"screen\", \"screen\", \"screen\", \"screen\"]}, \"R\": 4, \"lambda.step\": 0.01, \"plot.opts\": {\"xlab\": \"PC1\", \"ylab\": \"PC2\"}, \"topic.order\": [3, 1, 2, 4]};\n",
       "\n",
       "function LDAvis_load_lib(url, callback){\n",
       "  var s = document.createElement('script');\n",
       "  s.src = url;\n",
       "  s.async = true;\n",
       "  s.onreadystatechange = s.onload = callback;\n",
       "  s.onerror = function(){console.warn(\"failed to load library \" + url);};\n",
       "  document.getElementsByTagName(\"head\")[0].appendChild(s);\n",
       "}\n",
       "\n",
       "if(typeof(LDAvis) !== \"undefined\"){\n",
       "   // already loaded: just create the visualization\n",
       "   !function(LDAvis){\n",
       "       new LDAvis(\"#\" + \"ldavis_el804848215961041021515682\", ldavis_el804848215961041021515682_data);\n",
       "   }(LDAvis);\n",
       "}else if(typeof define === \"function\" && define.amd){\n",
       "   // require.js is available: use it to load d3/LDAvis\n",
       "   require.config({paths: {d3: \"https://cdnjs.cloudflare.com/ajax/libs/d3/3.5.5/d3.min\"}});\n",
       "   require([\"d3\"], function(d3){\n",
       "      window.d3 = d3;\n",
       "      LDAvis_load_lib(\"https://cdn.rawgit.com/bmabey/pyLDAvis/files/ldavis.v1.0.0.js\", function(){\n",
       "        new LDAvis(\"#\" + \"ldavis_el804848215961041021515682\", ldavis_el804848215961041021515682_data);\n",
       "      });\n",
       "    });\n",
       "}else{\n",
       "    // require.js not available: dynamically load d3 & LDAvis\n",
       "    LDAvis_load_lib(\"https://cdnjs.cloudflare.com/ajax/libs/d3/3.5.5/d3.min.js\", function(){\n",
       "         LDAvis_load_lib(\"https://cdn.rawgit.com/bmabey/pyLDAvis/files/ldavis.v1.0.0.js\", function(){\n",
       "                 new LDAvis(\"#\" + \"ldavis_el804848215961041021515682\", ldavis_el804848215961041021515682_data);\n",
       "            })\n",
       "         });\n",
       "}\n",
       "</script>"
      ],
      "text/plain": [
       "PreparedData(topic_coordinates=              x         y  topics  cluster       Freq\n",
       "topic                                                \n",
       "2     -0.186508  0.150995       1        1  27.420774\n",
       "0      0.239306  0.019020       2        1  26.463383\n",
       "1     -0.107619 -0.202724       3        1  23.869822\n",
       "3      0.054821  0.032708       4        1  22.246021, topic_info=  Category       Freq     Term      Total  loglift  logprob\n",
       "0  Default  68.000000  batteri  68.000000   4.0000   4.0000\n",
       "1  Default  55.000000   screen  55.000000   3.0000   3.0000\n",
       "3  Default  88.000000    price  88.000000   2.0000   2.0000\n",
       "2  Default  89.000000   camera  89.000000   1.0000   1.0000\n",
       "0   Topic1  60.598888  batteri  68.606804   1.1698  -0.3128\n",
       "2   Topic1  14.830421   camera  89.879448  -0.5079  -1.7204\n",
       "1   Topic1   5.242033   screen  55.113625  -1.0588  -2.7603\n",
       "3   Topic1   2.180275    price  88.549194  -2.4102  -3.6376\n",
       "3   Topic2  69.933815    price  88.549194   1.0934  -0.1340\n",
       "0   Topic2   4.875625  batteri  68.606804  -1.3147  -2.7973\n",
       "2   Topic2   3.339050   camera  89.879448  -1.9634  -3.1758\n",
       "1   Topic2   1.810383   screen  55.113625  -2.0865  -3.7880\n",
       "2   Topic3  62.943642   camera  89.879448   1.0763  -0.1361\n",
       "3   Topic3   6.901981    price  88.549194  -1.1192  -2.3466\n",
       "1   Topic3   1.204635   screen  55.113625  -2.3907  -4.0922\n",
       "0   Topic3   1.072185  batteri  68.606804  -2.7261  -4.2087\n",
       "1   Topic4  46.856571   screen  55.113625   1.3407  -0.3608\n",
       "3   Topic4   9.533130    price  88.549194  -0.7258  -1.9531\n",
       "2   Topic4   8.766333   camera  89.879448  -0.8245  -2.0370\n",
       "0   Topic4   2.060113  batteri  68.606804  -2.0026  -3.4852, token_table=      Topic      Freq     Term\n",
       "term                          \n",
       "0         1  0.889125  batteri\n",
       "0         2  0.072879  batteri\n",
       "0         3  0.014576  batteri\n",
       "0         4  0.029152  batteri\n",
       "2         1  0.166890   camera\n",
       "2         2  0.033378   camera\n",
       "2         3  0.700939   camera\n",
       "2         4  0.100134   camera\n",
       "3         1  0.022586    price\n",
       "3         2  0.790521    price\n",
       "3         3  0.079052    price\n",
       "3         4  0.112932    price\n",
       "1         1  0.090722   screen\n",
       "1         2  0.036289   screen\n",
       "1         3  0.018144   screen\n",
       "1         4  0.852784   screen, R=4, lambda_step=0.01, plot_opts={'xlab': 'PC1', 'ylab': 'PC2'}, topic_order=[3, 1, 2, 4])"
      ]
     },
     "execution_count": 69,
     "metadata": {},
     "output_type": "execute_result"
    }
   ],
   "source": [
    "visualisation"
   ]
  },
  {
   "cell_type": "markdown",
   "metadata": {},
   "source": [
    "## <font color=black>Coverage of Topics in Positive text.</font>"
   ]
  },
  {
   "cell_type": "code",
   "execution_count": 82,
   "metadata": {},
   "outputs": [
    {
     "name": "stdout",
     "output_type": "stream",
     "text": [
      "Number of positive reviews :241\n",
      "Number of negative reviews :363\n"
     ]
    }
   ],
   "source": [
    "no_pos = 984\n",
    "no_neg = 1481\n",
    "total = no_pos+no_neg\n",
    "p_reviews = total_docs*(no_pos/total)\n",
    "n_reviews = total_docs*(no_neg/total)\n",
    "print(\"Number of positive reviews :\" +str(round(p_reviews)))\n",
    "print(\"Number of negative reviews :\" +str(round(n_reviews)))"
   ]
  },
  {
   "cell_type": "code",
   "execution_count": 101,
   "metadata": {},
   "outputs": [],
   "source": [
    "labels_p= []\n",
    "scores_p= []\n",
    "labels_n= []\n",
    "scores_n= []"
   ]
  },
  {
   "cell_type": "code",
   "execution_count": 102,
   "metadata": {},
   "outputs": [
    {
     "name": "stdout",
     "output_type": "stream",
     "text": [
      "Topic: price\t Score: 129.0\n",
      "Topic: camera\t Score: 54.0\n",
      "Topic: batteri\t Score: 30.0\n",
      "Topic: screen\t Score: 29.0\n",
      "\n"
     ]
    }
   ],
   "source": [
    "bow_vector = dictionary.doc2bow(preprocess(pos_str))\n",
    "for index, score in sorted(lda_model_tfidf[bow_vector], key=lambda tup: -1*tup[1]):\n",
    "    #print(\"Score: {}\\t Topic: {}\".format(round(score*100), lda_model_tfidf.print_topic(index, 4)))\n",
    "    a = dictionary.get(lda_model_tfidf.get_topic_terms(index, 4)[0][0])\n",
    "    b = round(score*p_reviews)\n",
    "    print(\"Topic: {}\\t Score: {}\".format(a,b))\n",
    "    labels_p.append(a)\n",
    "    scores_p.append(b)\n",
    "print()"
   ]
  },
  {
   "cell_type": "code",
   "execution_count": 103,
   "metadata": {},
   "outputs": [],
   "source": [
    "index = np.arange(len(labels_p))\n",
    "def plot_bar_p():\n",
    "    # this is for plotting purpose\n",
    "    index = np.arange(len(labels_p))\n",
    "    plt.bar(index, scores_p,color=\"green\")\n",
    "    plt.xlabel('Features', fontsize=12)\n",
    "    plt.ylabel('No of Users', fontsize=12)\n",
    "    plt.xticks(index, labels_p, fontsize=12, rotation=0)\n",
    "    plt.title('Positive Features in Phone')\n",
    "    plt.show()"
   ]
  },
  {
   "cell_type": "code",
   "execution_count": 104,
   "metadata": {},
   "outputs": [
    {
     "data": {
      "image/png": "[encoded data removed]",
      "text/plain": [
       "<Figure size 432x288 with 1 Axes>"
      ]
     },
     "metadata": {
      "needs_background": "light"
     },
     "output_type": "display_data"
    }
   ],
   "source": [
    "plot_bar_p()"
   ]
  },
  {
   "cell_type": "markdown",
   "metadata": {},
   "source": [
    "## <font color=black>Coverage of Topics in Negative text.</font>"
   ]
  },
  {
   "cell_type": "code",
   "execution_count": 105,
   "metadata": {},
   "outputs": [
    {
     "name": "stdout",
     "output_type": "stream",
     "text": [
      "Topic: batteri\t Score: 97.0\n",
      "Topic: screen\t Score: 72.0\n",
      "Topic: camera\t Score: 49.0\n",
      "Topic: price\t Score: 24.0\n",
      "\n"
     ]
    }
   ],
   "source": [
    "bow_vector = dictionary.doc2bow(preprocess(neg_str))\n",
    "for index, score in sorted(lda_model_tfidf[bow_vector], key=lambda tup: -1*tup[1]):\n",
    "    #print(\"Score: {}\\t Topic: {}\".format(round(score*100), lda_model_tfidf.print_topic(index, 4)))\n",
    "    a = dictionary.get(lda_model_tfidf.get_topic_terms(index, 4)[0]9"
   ]
  },
  {
   "cell_type": "code",
   "execution_count": 110,
   "metadata": {},
   "outputs": [],
   "source": [
    "index = np.arange(len(labels_n))\n",
    "def plot_bar_n():\n",
    "    # this is for plotting purpose\n",
    "    index = np.arange(len(labels_n))\n",
    "    plt.bar(index, scores_n,color=\"red\")\n",
    "    plt.xlabel('Features', fontsize=12)\n",
    "    plt.ylabel('No of Users', fontsize=12)\n",
    "    plt.xticks(index, labels_n, fontsize=12, rotation=0)\n",
    "    plt.title('Negative Features in Phone')\n",
    "    plt.show()"
   ]
  },
  {
   "cell_type": "code",
   "execution_count": 111,
   "metadata": {},
   "outputs": [
    {
     "data": {
      "image/png": "[encoded data removed]",
      "text/plain": [
       "<Figure size 432x288 with 1 Axes>"
      ]
     },
     "metadata": {
      "needs_background": "light"
     },
     "output_type": "display_data"
    }
   ],
   "source": [
    "plot_bar_n()"
   ]
  },
  {
   "cell_type": "markdown",
   "metadata": {},
   "source": [
    "_________________________________________________________________END__________________________________________________________________________"
   ]
  }
 ],
 "metadata": {
  "kernelspec": {
   "display_name": "Python 3",
   "language": "python",
   "name": "python3"
  },
  "language_info": {
   "codemirror_mode": {
    "name": "ipython",
    "version": 3
   },
   "file_extension": ".py",
   "mimetype": "text/x-python",
   "name": "python",
   "nbconvert_exporter": "python",
   "pygments_lexer": "ipython3",
   "version": "3.7.0"
  }
 },
 "nbformat": 4,
 "nbformat_minor": 2
}
